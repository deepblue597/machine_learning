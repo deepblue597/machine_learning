{
 "cells": [
  {
   "cell_type": "markdown",
   "id": "fd257296-28e9-4531-a7b4-d1b649bde7d5",
   "metadata": {
    "deletable": false,
    "editable": false,
    "nbgrader": {
     "checksum": "868093c23cd0acb7ccc24bb9eb4bb654",
     "grade": false,
     "grade_id": "cell-cde51c2ca38b1d2f",
     "locked": true,
     "schema_version": 3,
     "solution": false,
     "task": false
    }
   },
   "source": [
    "## Εργασία 2 ##\n",
    "\n",
    "Καλωσήρθατε στην δεύτερη σας εργασία. Η εργασία αυτή έχει σκοπό να σας βοηθήσει να εμπεδώσετε τα δενδρικά μοντέλα και την αξιολόγηση μοντέλων.\n",
    "\n",
    "Στην εργασία αυτή θα πρέπει να συμπληρώσετε κώδικα Python 3 στα σημεία που αναφέρουν # YOUR CODE HERE. Μην τροποποιείτε τον κώδικα που βρίσκεται εκτός αυτών των περιοχών.\n",
    "\n",
    "Πρωτού παραδόσετε την εργασία σας σιγουρευτείτε ότι ο κώδικας σε όλα τα κελιά τρέχει σωστά. Για το σκοπό αυτό επιλέξτε από το μενού Χρόνος εκτέλεσης (runtime) -> Επανεκίνηση περιόδου λειτουργίας και εκτέλεση όλων.\n",
    "\n",
    "Συμπληρώστε το όνομα (NAME) και το AEM σας παρακάτω:"
   ]
  },
  {
   "cell_type": "code",
   "execution_count": null,
   "id": "35943a20-7f89-4b47-961b-ac23183ff388",
   "metadata": {},
   "outputs": [],
   "source": [
    "NAME = \"Ιάσονας Κακανδρής\"\n",
    "AEM = \"10003\""
   ]
  },
  {
   "cell_type": "markdown",
   "id": "b49cbc73-afc6-4141-bb46-21a63ebc415b",
   "metadata": {
    "deletable": false,
    "editable": false,
    "nbgrader": {
     "checksum": "d38534787c2934c1c79f0c1075eaaa57",
     "grade": false,
     "grade_id": "cell-f2a173d9ce7c3ffa",
     "locked": true,
     "schema_version": 3,
     "solution": false,
     "task": false
    }
   },
   "source": [
    "**1** Διαβάστε το διαθέσιμο από την sklearn σύνολο δεδομένων diabetes που αφορά την πρόβλεψη της πορείας που θα έχει ένας ασθενής με διαβήτη ένα χρόνο μετά (εργασία παλινδρόμησης) και αποθηκεύστε το σε μια μεταβλητή με το όνομα diabetes. (0.5 μονάδες)"
   ]
  },
  {
   "cell_type": "code",
   "execution_count": 1,
   "id": "6844af8a-e00e-4a88-9d0d-de2d3e8721c5",
   "metadata": {
    "deletable": false,
    "nbgrader": {
     "checksum": "c354584e4dfca7b126353604bf2e95e1",
     "grade": false,
     "grade_id": "cell-ac5d304e50a110a6",
     "locked": false,
     "schema_version": 3,
     "solution": true,
     "task": false
    }
   },
   "outputs": [],
   "source": [
    "# YOUR CODE HERE\n",
    "from sklearn.datasets import load_diabetes\n",
    "diabetes = load_diabetes() \n"
   ]
  },
  {
   "cell_type": "code",
   "execution_count": 2,
   "id": "02db6594-612b-4698-ac1d-d7226c83cccd",
   "metadata": {
    "deletable": false,
    "editable": false,
    "nbgrader": {
     "checksum": "45a25c892cf74706500f85c6cdcbe8f6",
     "grade": true,
     "grade_id": "cell-2d158133c851eb4e",
     "locked": true,
     "points": 0.5,
     "schema_version": 3,
     "solution": false,
     "task": false
    }
   },
   "outputs": [],
   "source": [
    "\"\"\"Τεστ ορθής ανάγνωσης του συνόλου δεδομένων\"\"\"\n",
    "assert diabetes.feature_names == ['age', 'sex', 'bmi', 'bp', 's1', 's2', 's3', 's4', 's5', 's6']"
   ]
  },
  {
   "cell_type": "markdown",
   "id": "8768cb60-05e4-497b-900f-ae2f178074e3",
   "metadata": {
    "deletable": false,
    "editable": false,
    "nbgrader": {
     "checksum": "4c78c4d0f2e09913e5c5cbac678cee29",
     "grade": false,
     "grade_id": "cell-e0bb3f606c668d4b",
     "locked": true,
     "schema_version": 3,
     "solution": false,
     "task": false
    }
   },
   "source": [
    "**2** Χωρίστε το σύνολο που διαβάσατε σε υποσύνολο ελέγχου 20% και υποσύνολο εκπαίδευσης 80% με την μέθοδο train_test_split και σπόρο τυχαιότητας 42. Aποθηκεύστε το σύνολο εκπαίδευσης σε μεταβλητές X_train, y_train και το σύνολο ελέγχου σε μεταβλητές X_test, y_test. (0.5 μονάδες)"
   ]
  },
  {
   "cell_type": "code",
   "execution_count": 3,
   "id": "8bea2ca0",
   "metadata": {},
   "outputs": [
    {
     "data": {
      "text/plain": [
       "['age', 'sex', 'bmi', 'bp', 's1', 's2', 's3', 's4', 's5', 's6']"
      ]
     },
     "execution_count": 3,
     "metadata": {},
     "output_type": "execute_result"
    }
   ],
   "source": [
    "#diabetes.target\n",
    "#diabetes.data\n",
    "diabetes.feature_names"
   ]
  },
  {
   "cell_type": "code",
   "execution_count": 4,
   "id": "1df2b2e2-7c0d-42bf-b424-6ba00fae290c",
   "metadata": {
    "deletable": false,
    "nbgrader": {
     "checksum": "1c4fe8d93ae9cd6211a932ef0683dac8",
     "grade": false,
     "grade_id": "cell-a637aedb66ae6d89",
     "locked": false,
     "schema_version": 3,
     "solution": true,
     "task": false
    }
   },
   "outputs": [],
   "source": [
    "# YOUR CODE HERE\n",
    "\"\"\"\n",
    "diabetes.data -> the independent parameters \n",
    "diabates.target -> the dependent parameter \n",
    "\"\"\"\n",
    "from sklearn.model_selection import train_test_split\n",
    "X_train , X_test , y_train , y_test = train_test_split( diabetes.data ,  diabetes.target , test_size= 0.2 , random_state= 42)\n",
    "#raise NotImplementedError()"
   ]
  },
  {
   "cell_type": "code",
   "execution_count": 5,
   "id": "903fd875-3dd2-4f5b-87fe-92e56dbe2878",
   "metadata": {
    "deletable": false,
    "editable": false,
    "nbgrader": {
     "checksum": "c0e21b1cedbfb73e7bbaabe3c7010c44",
     "grade": true,
     "grade_id": "cell-300331f01f617c3f",
     "locked": true,
     "points": 0.5,
     "schema_version": 3,
     "solution": false,
     "task": false
    }
   },
   "outputs": [],
   "source": [
    "\"\"\"Τεστ ορθού διαχωρισμού του συνόλου δεδομένων\"\"\"\n",
    "assert round(X_train[0][8], 5) == 0.02736\n",
    "assert round(X_test[0][8], 5) == 0.03243"
   ]
  },
  {
   "cell_type": "markdown",
   "id": "fd192fb0-f8b0-47c6-b93a-abe4ef11281f",
   "metadata": {
    "deletable": false,
    "editable": false,
    "nbgrader": {
     "checksum": "a89c98bec73f82e1cd1fe68075b8eef9",
     "grade": false,
     "grade_id": "cell-3ed4fe8123f7e549",
     "locked": true,
     "schema_version": 3,
     "solution": false,
     "task": false
    }
   },
   "source": [
    "**3** Χρησιμοποιώντας τα δεδομένα εκπαίδευσης, εκπαιδεύστε δύο δένδρα παλινδρόμησης με κριτήρια διαχωρισμού τα squared_eror και poisson ([δείτε ενότητα 1.10.7.2](https://scikit-learn.org/stable/modules/tree.html#tree)) αντίστοιχα, θέτοντας τον σπόρο τυχαιότητας στην τιμή 42 και το μέγιστο βάθος στην τιμή 3. Υπολογίστε τη μετρική r2 με βάση τις προβλέψεις τους στα δεδομένα ελέγχου, τις οποίες αποθηκεύστε στις μεταβλητές y_pred1 (squared_error) και y_pred2 (poisson) αντίστοιχα.\n",
    "Αποθηκεύστε τις μετρικές στις μεταβλητές r2_squared_error και r2_poisson αντίστοιχα. (1 μονάδα)"
   ]
  },
  {
   "cell_type": "code",
   "execution_count": 6,
   "id": "33a1a5d0-6816-4fa1-8528-8dabda89858b",
   "metadata": {
    "deletable": false,
    "nbgrader": {
     "checksum": "411c8366e437e9fd3e6f85f03a5af2cc",
     "grade": false,
     "grade_id": "cell-62cfb517c0f9271e",
     "locked": false,
     "schema_version": 3,
     "solution": true,
     "task": false
    }
   },
   "outputs": [],
   "source": [
    "# YOUR CODE HERE\n",
    "from sklearn.tree import DecisionTreeRegressor \n",
    "from sklearn.metrics import r2_score\n",
    "import numpy as np \n",
    "\n",
    "squared_error_tree = DecisionTreeRegressor(criterion='squared_error' , random_state=42 , max_depth=3) # for the squared error\n",
    "poisson_tree = DecisionTreeRegressor(criterion='poisson' , random_state=42 , max_depth=3) # for the poisson \n",
    "\n",
    "# fit the data \n",
    "squared_error_tree.fit(X_train , y_train)\n",
    "poisson_tree.fit(X_train , y_train) \n",
    "\n",
    "# predictions\n",
    "y_pred1 = squared_error_tree.predict(X_test) \n",
    "y_pred2 = poisson_tree.predict(X_test)\n",
    "\n",
    "# errors \n",
    "r2_squared_error = r2_score(y_true= y_test , y_pred= y_pred1)\n",
    "r2_poisson  = r2_score(y_true= y_test , y_pred= y_pred2)\n",
    "\n",
    "# print the values if we want\n",
    "# print(r2_squared_error)\n",
    "# print(r2_poisson)\n"
   ]
  },
  {
   "cell_type": "code",
   "execution_count": 7,
   "id": "6d2fba39-f5e4-45a6-b327-dd58cb179736",
   "metadata": {
    "deletable": false,
    "editable": false,
    "nbgrader": {
     "checksum": "4b2eaf6eeef059f4636f235b1d6dc5c2",
     "grade": true,
     "grade_id": "cell-714ce0b2b256307e",
     "locked": true,
     "points": 1,
     "schema_version": 3,
     "solution": false,
     "task": false
    }
   },
   "outputs": [],
   "source": [
    "\"\"\"Τεστ ορθού υπολογισμού των μετρικών\"\"\"\n",
    "assert round(r2_squared_error, 3) == 0.329\n",
    "assert round(r2_poisson, 3) == 0.391\n",
    "assert len(y_pred1) == len(y_pred2)"
   ]
  },
  {
   "cell_type": "markdown",
   "id": "94f5d9c9-4e95-4580-be1e-b4fe3a4205bf",
   "metadata": {
    "deletable": false,
    "editable": false,
    "nbgrader": {
     "checksum": "be754e1276624f069dee86ee8f853107",
     "grade": false,
     "grade_id": "cell-f01a28436857819d",
     "locked": true,
     "schema_version": 3,
     "solution": false,
     "task": false
    }
   },
   "source": [
    "**4** Αναπτύξτε κώδικα με βάση την ιδιότητα [tree_](https://scikit-learn.org/stable/auto_examples/tree/plot_unveil_tree_structure.html#sphx-glr-auto-examples-tree-plot-unveil-tree-structure-py) του παρακάτω μοντέλου, προκειμένου να εμφανίσετε το μονοπάτι που ακολουθήθηκε στο δένδρο για την πρόβλεψη της πρώτης περίπτωσης του συνόλου ελέγχου. Σε περίπτωση που ελέγχεται δεύτερη φορά μια μεταβλητή στο μονοπάτι, θα πρέπει να διατηρούμε τον τελευταίο και στενότερο περιορισμό. Ακολουθούν παραδείγματα ορθής λειτουργίας, στα οποία φαίνεται και η μορφή αν-τότε που πρέπει να έχει το μονοπάτι. (4 μονάδες)"
   ]
  },
  {
   "cell_type": "code",
   "execution_count": 62,
   "id": "77cf9b64-8b11-479c-a106-132fd6398ff9",
   "metadata": {
    "deletable": false,
    "editable": false,
    "nbgrader": {
     "checksum": "cbdffecefd3ecf335ce1af280199ad84",
     "grade": false,
     "grade_id": "cell-acb6f339cd9affa0",
     "locked": true,
     "schema_version": 3,
     "solution": false,
     "task": false
    }
   },
   "outputs": [
    {
     "data": {
      "text/html": [
       "<style>#sk-container-id-4 {color: black;}#sk-container-id-4 pre{padding: 0;}#sk-container-id-4 div.sk-toggleable {background-color: white;}#sk-container-id-4 label.sk-toggleable__label {cursor: pointer;display: block;width: 100%;margin-bottom: 0;padding: 0.3em;box-sizing: border-box;text-align: center;}#sk-container-id-4 label.sk-toggleable__label-arrow:before {content: \"▸\";float: left;margin-right: 0.25em;color: #696969;}#sk-container-id-4 label.sk-toggleable__label-arrow:hover:before {color: black;}#sk-container-id-4 div.sk-estimator:hover label.sk-toggleable__label-arrow:before {color: black;}#sk-container-id-4 div.sk-toggleable__content {max-height: 0;max-width: 0;overflow: hidden;text-align: left;background-color: #f0f8ff;}#sk-container-id-4 div.sk-toggleable__content pre {margin: 0.2em;color: black;border-radius: 0.25em;background-color: #f0f8ff;}#sk-container-id-4 input.sk-toggleable__control:checked~div.sk-toggleable__content {max-height: 200px;max-width: 100%;overflow: auto;}#sk-container-id-4 input.sk-toggleable__control:checked~label.sk-toggleable__label-arrow:before {content: \"▾\";}#sk-container-id-4 div.sk-estimator input.sk-toggleable__control:checked~label.sk-toggleable__label {background-color: #d4ebff;}#sk-container-id-4 div.sk-label input.sk-toggleable__control:checked~label.sk-toggleable__label {background-color: #d4ebff;}#sk-container-id-4 input.sk-hidden--visually {border: 0;clip: rect(1px 1px 1px 1px);clip: rect(1px, 1px, 1px, 1px);height: 1px;margin: -1px;overflow: hidden;padding: 0;position: absolute;width: 1px;}#sk-container-id-4 div.sk-estimator {font-family: monospace;background-color: #f0f8ff;border: 1px dotted black;border-radius: 0.25em;box-sizing: border-box;margin-bottom: 0.5em;}#sk-container-id-4 div.sk-estimator:hover {background-color: #d4ebff;}#sk-container-id-4 div.sk-parallel-item::after {content: \"\";width: 100%;border-bottom: 1px solid gray;flex-grow: 1;}#sk-container-id-4 div.sk-label:hover label.sk-toggleable__label {background-color: #d4ebff;}#sk-container-id-4 div.sk-serial::before {content: \"\";position: absolute;border-left: 1px solid gray;box-sizing: border-box;top: 0;bottom: 0;left: 50%;z-index: 0;}#sk-container-id-4 div.sk-serial {display: flex;flex-direction: column;align-items: center;background-color: white;padding-right: 0.2em;padding-left: 0.2em;position: relative;}#sk-container-id-4 div.sk-item {position: relative;z-index: 1;}#sk-container-id-4 div.sk-parallel {display: flex;align-items: stretch;justify-content: center;background-color: white;position: relative;}#sk-container-id-4 div.sk-item::before, #sk-container-id-4 div.sk-parallel-item::before {content: \"\";position: absolute;border-left: 1px solid gray;box-sizing: border-box;top: 0;bottom: 0;left: 50%;z-index: -1;}#sk-container-id-4 div.sk-parallel-item {display: flex;flex-direction: column;z-index: 1;position: relative;background-color: white;}#sk-container-id-4 div.sk-parallel-item:first-child::after {align-self: flex-end;width: 50%;}#sk-container-id-4 div.sk-parallel-item:last-child::after {align-self: flex-start;width: 50%;}#sk-container-id-4 div.sk-parallel-item:only-child::after {width: 0;}#sk-container-id-4 div.sk-dashed-wrapped {border: 1px dashed gray;margin: 0 0.4em 0.5em 0.4em;box-sizing: border-box;padding-bottom: 0.4em;background-color: white;}#sk-container-id-4 div.sk-label label {font-family: monospace;font-weight: bold;display: inline-block;line-height: 1.2em;}#sk-container-id-4 div.sk-label-container {text-align: center;}#sk-container-id-4 div.sk-container {/* jupyter's `normalize.less` sets `[hidden] { display: none; }` but bootstrap.min.css set `[hidden] { display: none !important; }` so we also need the `!important` here to be able to override the default hidden behavior on the sphinx rendered scikit-learn.org. See: https://github.com/scikit-learn/scikit-learn/issues/21755 */display: inline-block !important;position: relative;}#sk-container-id-4 div.sk-text-repr-fallback {display: none;}</style><div id=\"sk-container-id-4\" class=\"sk-top-container\"><div class=\"sk-text-repr-fallback\"><pre>DecisionTreeRegressor(max_depth=3, random_state=42)</pre><b>In a Jupyter environment, please rerun this cell to show the HTML representation or trust the notebook. <br />On GitHub, the HTML representation is unable to render, please try loading this page with nbviewer.org.</b></div><div class=\"sk-container\" hidden><div class=\"sk-item\"><div class=\"sk-estimator sk-toggleable\"><input class=\"sk-toggleable__control sk-hidden--visually\" id=\"sk-estimator-id-4\" type=\"checkbox\" checked><label for=\"sk-estimator-id-4\" class=\"sk-toggleable__label sk-toggleable__label-arrow\">DecisionTreeRegressor</label><div class=\"sk-toggleable__content\"><pre>DecisionTreeRegressor(max_depth=3, random_state=42)</pre></div></div></div></div></div>"
      ],
      "text/plain": [
       "DecisionTreeRegressor(max_depth=3, random_state=42)"
      ]
     },
     "execution_count": 62,
     "metadata": {},
     "output_type": "execute_result"
    }
   ],
   "source": [
    "from sklearn.tree import export_text\n",
    "\n",
    "\n",
    "model = DecisionTreeRegressor(max_depth=3, random_state=42)\n",
    "model.fit(X_train, y_train)\n",
    "\n"
   ]
  },
  {
   "cell_type": "code",
   "execution_count": 66,
   "id": "9b40e4ad",
   "metadata": {},
   "outputs": [
    {
     "name": "stdout",
     "output_type": "stream",
     "text": [
      "|--- bmi <= 0.01\n",
      "|   |--- s5 <= 0.01\n",
      "|   |   |--- s5 <= -0.04\n",
      "|   |   |   |--- value: [80.88]\n",
      "|   |   |--- s5 >  -0.04\n",
      "|   |   |   |--- value: [109.92]\n",
      "|   |--- s5 >  0.01\n",
      "|   |   |--- s4 <= 0.09\n",
      "|   |   |   |--- value: [159.57]\n",
      "|   |   |--- s4 >  0.09\n",
      "|   |   |   |--- value: [256.33]\n",
      "|--- bmi >  0.01\n",
      "|   |--- bmi <= 0.07\n",
      "|   |   |--- s6 <= 0.03\n",
      "|   |   |   |--- value: [175.80]\n",
      "|   |   |--- s6 >  0.03\n",
      "|   |   |   |--- value: [230.52]\n",
      "|   |--- bmi >  0.07\n",
      "|   |   |--- s2 <= 0.02\n",
      "|   |   |   |--- value: [291.22]\n",
      "|   |   |--- s2 >  0.02\n",
      "|   |   |   |--- value: [225.75]\n",
      "\n"
     ]
    }
   ],
   "source": [
    "from sklearn import tree\n",
    "\n",
    "text_representation = export_text(model, feature_names= diabetes.feature_names)\n",
    "print(text_representation)"
   ]
  },
  {
   "cell_type": "code",
   "execution_count": 41,
   "id": "8f59093c",
   "metadata": {},
   "outputs": [],
   "source": [
    "from sklearn.tree import _tree\n",
    "\n",
    "def tree_to_code(tree, feature_names):\n",
    "\n",
    "    tree_ = tree.tree_ # we are accessing the internal tree attribute \n",
    "    \n",
    "    feature_name = [] # create a list to save the names of the features for each decision\n",
    "    for i in tree_.feature: # instead of numbers we save the feature names that the nodes are split \n",
    "        if i != _tree.TREE_UNDEFINED: # if the node is not a leaf we append the value of the feature name that is split upon \n",
    "            feature_name.append(feature_names[i])\n",
    "        else:\n",
    "            feature_name.append(\"undefined!\") # if it is a leaf we save it as undefined\n",
    "    \n",
    "    print(\"def predict({}):\".format(\", \".join(feature_names))) # based on which features we split \n",
    "\n",
    "    def recurse(node, depth):\n",
    "        indent = \"    \" * depth\n",
    "        if tree_.feature[node] != _tree.TREE_UNDEFINED: # if the node is not a leaf \n",
    "            name = feature_name[node] # save the name of the feature \n",
    "            threshold = tree_.threshold[node] # the threshold of the split \n",
    "            print(\"{}if {} <= {}:\".format(indent, name, np.round(threshold,2))) \n",
    "            recurse(tree_.children_left[node], depth + 1) # go to left child \n",
    "            print(\"{}else:  # if {} > {}\".format(indent, name, np.round(threshold,2)))\n",
    "            recurse(tree_.children_right[node], depth + 1) # go to right child \n",
    "        else: # leaf node \n",
    "            print(\"{}return {}\".format(indent, tree_.value[node]))\n",
    "\n",
    "    recurse(0, 1)"
   ]
  },
  {
   "cell_type": "code",
   "execution_count": 67,
   "id": "c53e9b8e",
   "metadata": {},
   "outputs": [
    {
     "name": "stdout",
     "output_type": "stream",
     "text": [
      "def predict(age, sex, bmi, bp, s1, s2, s3, s4, s5, s6):\n",
      "    if bmi <= 0.01:\n",
      "        if s5 <= 0.01:\n",
      "            if s5 <= -0.04:\n",
      "                return [[80.87755102]]\n",
      "            else:  # if s5 > -0.04\n",
      "                return [[109.9223301]]\n",
      "        else:  # if s5 > 0.01\n",
      "            if s4 <= 0.09:\n",
      "                return [[159.57407407]]\n",
      "            else:  # if s4 > 0.09\n",
      "                return [[256.33333333]]\n",
      "    else:  # if bmi > 0.01\n",
      "        if bmi <= 0.07:\n",
      "            if s6 <= 0.03:\n",
      "                return [[175.8]]\n",
      "            else:  # if s6 > 0.03\n",
      "                return [[230.51515152]]\n",
      "        else:  # if bmi > 0.07\n",
      "            if s2 <= 0.02:\n",
      "                return [[291.22222222]]\n",
      "            else:  # if s2 > 0.02\n",
      "                return [[225.75]]\n"
     ]
    }
   ],
   "source": [
    "tree_to_code(model,  diabetes.feature_names)"
   ]
  },
  {
   "cell_type": "code",
   "execution_count": 86,
   "id": "e99ee95a",
   "metadata": {},
   "outputs": [],
   "source": [
    "def get_rules(tree, feature_names, class_names):\n",
    "    tree_ = tree.tree_\n",
    "    feature_name = [\n",
    "        feature_names[i] if i != _tree.TREE_UNDEFINED else \"undefined!\"\n",
    "        for i in tree_.feature\n",
    "    ]\n",
    "\n",
    "    paths = []\n",
    "    path = []\n",
    "    \n",
    "    def recurse(node, path, paths):\n",
    "        \n",
    "        if tree_.feature[node] != _tree.TREE_UNDEFINED:\n",
    "            name = feature_name[node]\n",
    "            threshold = tree_.threshold[node]\n",
    "            p1, p2 = list(path), list(path)\n",
    "            p1 += [f\"{name} <= {np.round(threshold, 2)}\"]\n",
    "            recurse(tree_.children_left[node], p1, paths)\n",
    "            p2 += [f\"{name} > {np.round(threshold, 2)}\"]\n",
    "            recurse(tree_.children_right[node], p2, paths)\n",
    "        else:\n",
    "            path += [(tree_.value[node], tree_.n_node_samples[node])]\n",
    "            paths += [path]\n",
    "            \n",
    "    recurse(0, path, paths)\n",
    "\n",
    "    # sort by samples count\n",
    "    samples_count = [p[-1][1] for p in paths]\n",
    "    ii = list(np.argsort(samples_count))\n",
    "    paths = [paths[i] for i in reversed(ii)]\n",
    "    \n",
    "    rules = []\n",
    "    for path in paths:\n",
    "        rule = \"αν \"\n",
    "        \n",
    "        for p in path[:-1]:\n",
    "            if rule != \"αν \":\n",
    "                rule += \" και \"\n",
    "            rule += str(p)\n",
    "        rule += \" τότε \"\n",
    "        if class_names is None:\n",
    "            rule += \"response: \"+str(np.round(path[-1][0][0][0],3))\n",
    "        else:\n",
    "            classes = path[-1][0][0]\n",
    "            l = np.argmax(classes)\n",
    "            rule += f\"{class_names[l]}\" #  (proba: {np.round(100.0*classes[l]/np.sum(classes),2)}%)\n",
    "        #rule += f\" | based on {path[-1][1]:,} samples\"\n",
    "        rules += [rule]\n",
    "        \n",
    "    return rules"
   ]
  },
  {
   "cell_type": "code",
   "execution_count": 87,
   "id": "d2bbf516",
   "metadata": {},
   "outputs": [
    {
     "name": "stdout",
     "output_type": "stream",
     "text": [
      "αν bmi <= 0.01 και s5 <= 0.01 και s5 > -0.04 τότε response: 109.922\n",
      "αν bmi > 0.01 και bmi <= 0.07 και s6 <= 0.03 τότε response: 175.8\n",
      "αν bmi <= 0.01 και s5 > 0.01 και s4 <= 0.09 τότε response: 159.574\n",
      "αν bmi <= 0.01 και s5 <= 0.01 και s5 <= -0.04 τότε response: 80.878\n",
      "αν bmi > 0.01 και bmi <= 0.07 και s6 > 0.03 τότε response: 230.515\n",
      "αν bmi > 0.01 και bmi > 0.07 και s2 <= 0.02 τότε response: 291.222\n",
      "αν bmi > 0.01 και bmi > 0.07 και s2 > 0.02 τότε response: 225.75\n",
      "αν bmi <= 0.01 και s5 > 0.01 και s4 > 0.09 τότε response: 256.333\n"
     ]
    }
   ],
   "source": [
    "\n",
    "\n",
    "rules = get_rules(model,  diabetes.feature_names , None)\n",
    "for r in rules:\n",
    "    print(r)"
   ]
  },
  {
   "cell_type": "code",
   "execution_count": 104,
   "id": "023db071",
   "metadata": {},
   "outputs": [
    {
     "name": "stdout",
     "output_type": "stream",
     "text": [
      "αν bmi > 0.01 και bmi > 0.07 και s2 > 0.02 τότε 225.75\n"
     ]
    }
   ],
   "source": [
    "import numpy as np\n",
    "\n",
    "def get_path(tree, sample , feature_names):\n",
    "    tree_ = tree.tree_\n",
    "    feature_name = [\n",
    "        feature_names[i] if i != _tree.TREE_UNDEFINED else \"undefined!\"\n",
    "        for i in tree_.feature\n",
    "    ]\n",
    "\n",
    "    path = []\n",
    "    \n",
    "    def recurse(node):\n",
    "        nonlocal path\n",
    "        \n",
    "        if tree_.feature[node] != _tree.TREE_UNDEFINED:\n",
    "            name = feature_name[node]\n",
    "            threshold = tree_.threshold[node]\n",
    "            \n",
    "            # Check if the feature value of the sample satisfies the split condition\n",
    "            if sample[feature_names.index(name)] <= threshold:\n",
    "                path.append(f\"{name} <= {np.round(threshold, 2)}\")\n",
    "                recurse(tree_.children_left[node])\n",
    "            else:\n",
    "                path.append(f\"{name} > {np.round(threshold, 2)}\")\n",
    "                recurse(tree_.children_right[node])\n",
    "        else:\n",
    "            # Reached a leaf node, add the node to the path\n",
    "            path.append((tree_.value[node], tree_.n_node_samples[node]))\n",
    "            \n",
    "    recurse(0)\n",
    "\n",
    "    # Convert path to a readable rule\n",
    "    rule = \"αν \"\n",
    "    for p in path[:-1]:\n",
    "        if rule != \"αν \":\n",
    "            rule += \" και \"\n",
    "        rule += str(p)\n",
    "    rule += \" τότε \"\n",
    "    rule += str(np.round(path[-1][0][0][0], 2))\n",
    "   \n",
    "    return rule\n",
    "\n",
    "# Usage example:\n",
    "# Assuming X_test[0] is the first sample in your test data\n",
    "sample_path = get_path(model, X_test[6], diabetes.feature_names)\n",
    "print(sample_path)\n"
   ]
  },
  {
   "cell_type": "code",
   "execution_count": 101,
   "id": "6d0aaab3-cd65-413c-8759-49107ee6737a",
   "metadata": {
    "deletable": false,
    "nbgrader": {
     "checksum": "d7f6083aecc4d4771af2b6d80ec21c2c",
     "grade": false,
     "grade_id": "cell-1697542afe8f99a2",
     "locked": false,
     "schema_version": 3,
     "solution": true,
     "task": false
    }
   },
   "outputs": [
    {
     "ename": "IndentationError",
     "evalue": "expected an indented block after function definition on line 1 (1844376028.py, line 3)",
     "output_type": "error",
     "traceback": [
      "\u001b[1;36m  Cell \u001b[1;32mIn[101], line 3\u001b[1;36m\u001b[0m\n\u001b[1;33m    raise NotImplementedError()\u001b[0m\n\u001b[1;37m    ^\u001b[0m\n\u001b[1;31mIndentationError\u001b[0m\u001b[1;31m:\u001b[0m expected an indented block after function definition on line 1\n"
     ]
    }
   ],
   "source": [
    "def get_path(tree, instance, feature_names):\n",
    "# YOUR CODE HERE\n",
    "raise NotImplementedError()"
   ]
  },
  {
   "cell_type": "code",
   "execution_count": 103,
   "id": "b9bcecd0-55e1-4d43-8115-3c59157d6430",
   "metadata": {
    "deletable": false,
    "editable": false,
    "nbgrader": {
     "checksum": "ad686da34e215d8a691f2023cfcefc28",
     "grade": true,
     "grade_id": "cell-8aabb13a60a743dd",
     "locked": true,
     "points": 4,
     "schema_version": 3,
     "solution": false,
     "task": false
    }
   },
   "outputs": [
    {
     "ename": "AssertionError",
     "evalue": "",
     "output_type": "error",
     "traceback": [
      "\u001b[1;31m---------------------------------------------------------------------------\u001b[0m",
      "\u001b[1;31mAssertionError\u001b[0m                            Traceback (most recent call last)",
      "Cell \u001b[1;32mIn[103], line 4\u001b[0m\n\u001b[0;32m      2\u001b[0m \u001b[38;5;28;01massert\u001b[39;00m get_path(model, X_test[\u001b[38;5;241m0\u001b[39m], diabetes\u001b[38;5;241m.\u001b[39mfeature_names) \u001b[38;5;241m==\u001b[39m \u001b[38;5;124m'\u001b[39m\u001b[38;5;124mαν bmi <= 0.01 και s5 > 0.01 και s4 <= 0.09 τότε 159.57\u001b[39m\u001b[38;5;124m'\u001b[39m\n\u001b[0;32m      3\u001b[0m \u001b[38;5;28;01massert\u001b[39;00m get_path(model, X_test[\u001b[38;5;241m1\u001b[39m], diabetes\u001b[38;5;241m.\u001b[39mfeature_names) \u001b[38;5;241m==\u001b[39m \u001b[38;5;124m'\u001b[39m\u001b[38;5;124mαν bmi > 0.01 και bmi <= 0.07 και s6 <= 0.03 τότε 175.8\u001b[39m\u001b[38;5;124m'\u001b[39m\n\u001b[1;32m----> 4\u001b[0m \u001b[38;5;28;01massert\u001b[39;00m get_path(model, X_test[\u001b[38;5;241m6\u001b[39m], diabetes\u001b[38;5;241m.\u001b[39mfeature_names) \u001b[38;5;241m==\u001b[39m \u001b[38;5;124m'\u001b[39m\u001b[38;5;124mαν bmi > 0.07 και s2 > 0.02 τότε 225.75\u001b[39m\u001b[38;5;124m'\u001b[39m\n",
      "\u001b[1;31mAssertionError\u001b[0m: "
     ]
    }
   ],
   "source": [
    "\"\"\"Τεστ ορθού υπολογισμού του μονοπατιού\"\"\"\n",
    "assert get_path(model, X_test[0], diabetes.feature_names) == 'αν bmi <= 0.01 και s5 > 0.01 και s4 <= 0.09 τότε 159.57'\n",
    "assert get_path(model, X_test[1], diabetes.feature_names) == 'αν bmi > 0.01 και bmi <= 0.07 και s6 <= 0.03 τότε 175.8'\n",
    "assert get_path(model, X_test[6], diabetes.feature_names) == 'αν bmi > 0.07 και s2 > 0.02 τότε 225.75'"
   ]
  },
  {
   "cell_type": "markdown",
   "id": "5193718d-3e13-47c6-a9f1-a09ea06ec641",
   "metadata": {
    "deletable": false,
    "editable": false,
    "nbgrader": {
     "checksum": "ae6dd6f808de61fa4bcb79e36a8598e8",
     "grade": false,
     "grade_id": "cell-940a80deeffa159b",
     "locked": true,
     "schema_version": 3,
     "solution": false,
     "task": false
    }
   },
   "source": [
    "**5** Διαχωρίστε τα δεδομένα diabetes σε υποσύνολα εκπαίδευσης 60% (X_train, y_train), επικύρωσης 15% (X_val, y_val) και ελέγχου 25% (X_test, y_test) με σπόρο τυχαιότητας 42. (1 μονάδα)"
   ]
  },
  {
   "cell_type": "code",
   "execution_count": 35,
   "id": "491d8125-9dbe-4af2-86f5-d82853fb7338",
   "metadata": {
    "deletable": false,
    "nbgrader": {
     "checksum": "db935d2a37317a310b5936186c4794ef",
     "grade": false,
     "grade_id": "cell-c2448c38ed5250e1",
     "locked": false,
     "schema_version": 3,
     "solution": true,
     "task": false
    }
   },
   "outputs": [],
   "source": [
    "# YOUR CODE HERE\n",
    "X_combine , X_test , y_combine , y_test = train_test_split( diabetes.data ,  diabetes.target , test_size= 0.25 , random_state= 42)\n",
    "\n",
    "X_train , X_val , y_train , y_val = train_test_split( X_combine ,  y_combine , test_size= 0.20 , random_state= 42)\n",
    "\n",
    "#print tests\n",
    "# print(X_train[0][8])\n",
    "# print(X_val[0][8])\n",
    "# print(X_test[0][8])\n",
    "#raise NotImplementedError()"
   ]
  },
  {
   "cell_type": "code",
   "execution_count": 36,
   "id": "dd047e1b-76eb-4e7c-bf90-08870f1e36ea",
   "metadata": {
    "deletable": false,
    "editable": false,
    "nbgrader": {
     "checksum": "8082e7595149608e61dbc1139e844f6a",
     "grade": true,
     "grade_id": "cell-8da00aed9ea7c071",
     "locked": true,
     "points": 1,
     "schema_version": 3,
     "solution": false,
     "task": false
    }
   },
   "outputs": [],
   "source": [
    "\"\"\"Τεστ ορθού διαχωρισμού του συνόλου δεδομένων\"\"\"\n",
    "assert round(X_train[0][8], 5) == -0.08024\n",
    "assert round(X_val[0][8], 5) == 0.09924\n",
    "assert round(X_test[0][8], 5) == 0.03243"
   ]
  },
  {
   "cell_type": "markdown",
   "id": "4efdf0b0-e8e6-4e0d-bc05-e3ea1f7986cc",
   "metadata": {
    "deletable": false,
    "editable": false,
    "nbgrader": {
     "checksum": "d0ab7b22f076a7d0e7d939b081ceddc7",
     "grade": false,
     "grade_id": "cell-a3db54aff5b38eb5",
     "locked": true,
     "schema_version": 3,
     "solution": false,
     "task": false
    }
   },
   "source": [
    "**6** Υλοποιήστε συνάρτηση, η οποία δοθέντος ενός δενδρικού μοντέλου παλινδρόμησης, διερευνά όλες τις ακέραιες τιμές της μεταβλητής min_samples_leaf από ένα κάτω όριο μέχρι ένα άνω όριο και επιστρέφει την βέλτιστη με βάση το mean squared error στο παραπάνω σύνολο επικύρωσης έπειτα από εκπαίδευση στο παραπάνω σύνολο εκπαίδευσης. Επιπλέον επιστρέφει και το mean squared error (στρογγυλοποιημένο σε ακέραιο) που πετυχαίνει στο σύνολο ελέγχου το μοντέλο με την βέλτιστη επίδοση στο σύνολο επικύρωσης. (2 μονάδες)"
   ]
  },
  {
   "cell_type": "code",
   "execution_count": null,
   "id": "9dbead38-ca9b-42df-bbb2-b048f5e24b22",
   "metadata": {
    "deletable": false,
    "nbgrader": {
     "checksum": "fb326fc5e0510505b79aceabf808330f",
     "grade": false,
     "grade_id": "cell-45e2ac4f9c5115f9",
     "locked": false,
     "schema_version": 3,
     "solution": true,
     "task": false
    }
   },
   "outputs": [],
   "source": [
    "from sklearn.metrics import mean_squared_error\n",
    "\n",
    "def best_min_samples_leaf(model, min, max):\n",
    "# YOUR CODE HERE\n",
    "raise NotImplementedError()"
   ]
  },
  {
   "cell_type": "code",
   "execution_count": null,
   "id": "b838ddc0-89a8-4eee-a763-a7d3c11e5b30",
   "metadata": {
    "deletable": false,
    "editable": false,
    "nbgrader": {
     "checksum": "159d83b03d1d503439ad7ec62f9e238b",
     "grade": true,
     "grade_id": "cell-0d6be21e54be9665",
     "locked": true,
     "points": 2,
     "schema_version": 3,
     "solution": false,
     "task": false
    }
   },
   "outputs": [],
   "source": [
    "\"\"\"Τεστ ορθής υλοποίησης συνάρτησης\"\"\"\n",
    "model = DecisionTreeRegressor(max_depth=3, random_state=42)\n",
    "assert best_min_samples_leaf(model, 1, 8) == (7, 3358)\n",
    "assert best_min_samples_leaf(model, 5, 15) == (11, 3271)"
   ]
  },
  {
   "cell_type": "markdown",
   "id": "f3bfd62f-4bcb-469e-828d-59cae51a8fc0",
   "metadata": {
    "deletable": false,
    "editable": false,
    "nbgrader": {
     "checksum": "d46893f80d324425fe3cc4a4c20e6bbe",
     "grade": false,
     "grade_id": "cell-4cad691ad413982d",
     "locked": true,
     "schema_version": 3,
     "solution": false,
     "task": false
    }
   },
   "source": [
    "**7** Υλοποιήστε συνάρτηση η οποία δοθέντος ενός μοντέλου παλινδρόμησης, ενός συνόλου δεδομένων και μίας μετρικής, το αξιολογεί με τη μέθοδο της σταυρωτής επικύρωσης \"άφησε ένα εκτός\". (1 μονάδα)"
   ]
  },
  {
   "cell_type": "code",
   "execution_count": null,
   "id": "5141d2a3-f31f-4849-bcf7-373833f8b6a9",
   "metadata": {
    "deletable": false,
    "nbgrader": {
     "checksum": "548523b71d1eb97e42c6b89e3af974fc",
     "grade": false,
     "grade_id": "cell-880c64392f85bccb",
     "locked": false,
     "schema_version": 3,
     "solution": true,
     "task": false
    }
   },
   "outputs": [],
   "source": [
    "from sklearn.model_selection import LeaveOneOut\n",
    "import numpy as np\n",
    "\n",
    "def leave_one_out(model, X, y, metric):\n",
    "# YOUR CODE HERE\n",
    "raise NotImplementedError()"
   ]
  },
  {
   "cell_type": "code",
   "execution_count": null,
   "id": "d32f124b-9c2c-4c45-80e0-284739a53d8f",
   "metadata": {
    "deletable": false,
    "editable": false,
    "nbgrader": {
     "checksum": "617487c0b89242269d6806c632fb108f",
     "grade": true,
     "grade_id": "cell-4afd7b6de1cd1f7f",
     "locked": true,
     "points": 1,
     "schema_version": 3,
     "solution": false,
     "task": false
    }
   },
   "outputs": [],
   "source": [
    "\"\"\"Τεστ ορθής υλοποίησης συνάρτησης\"\"\"\n",
    "model = DecisionTreeRegressor(max_leaf_nodes=6, min_samples_leaf=2, random_state=42)\n",
    "assert round(leave_one_out(model, diabetes.data, diabetes.target, mean_squared_error), 0) == 3354"
   ]
  }
 ],
 "metadata": {
  "kernelspec": {
   "display_name": "Python 3 (ipykernel)",
   "language": "python",
   "name": "python3"
  },
  "language_info": {
   "codemirror_mode": {
    "name": "ipython",
    "version": 3
   },
   "file_extension": ".py",
   "mimetype": "text/x-python",
   "name": "python",
   "nbconvert_exporter": "python",
   "pygments_lexer": "ipython3",
   "version": "3.11.5"
  }
 },
 "nbformat": 4,
 "nbformat_minor": 5
}
